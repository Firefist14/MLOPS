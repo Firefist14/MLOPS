{
 "cells": [
  {
   "cell_type": "code",
   "execution_count": 0,
   "metadata": {
    "application/vnd.databricks.v1+cell": {
     "cellMetadata": {
      "byteLimit": 2048000,
      "rowLimit": 10000
     },
     "inputWidgets": {},
     "nuid": "53172edd-8a59-42eb-b123-c62ac7b1d04a",
     "showTitle": false,
     "tableResultSettingsMap": {},
     "title": ""
    }
   },
   "outputs": [],
   "source": [
    "df = spark.read.option(\"header\", \"true\").option(\"inferSchema\", \"true\").csv(\"/Volumes/workspace/default/tutorial/ChicagoParkingTickets3.txt\")\n",
    "df_sample = df.limit(100000)\n",
    "output_path = \"/Volumes/workspace/default/tutorial/reduced_sample.csv\"\n",
    "df_sample.write.mode(\"overwrite\").option(\"header\", True).csv(output_path)\n"
   ]
  },
  {
   "cell_type": "code",
   "execution_count": 0,
   "metadata": {
    "application/vnd.databricks.v1+cell": {
     "cellMetadata": {
      "byteLimit": 2048000,
      "rowLimit": 10000
     },
     "inputWidgets": {},
     "nuid": "34c56708-40fd-493a-8856-78dcc20325d9",
     "showTitle": false,
     "tableResultSettingsMap": {},
     "title": ""
    }
   },
   "outputs": [],
   "source": [
    "df = spark.read.option(\"header\", \"true\").csv(\"/Volumes/workspace/default/tutorial/reduced_sample.csv\")\n",
    "df.display()"
   ]
  },
  {
   "cell_type": "code",
   "execution_count": 0,
   "metadata": {
    "application/vnd.databricks.v1+cell": {
     "cellMetadata": {
      "byteLimit": 2048000,
      "rowLimit": 10000
     },
     "inputWidgets": {},
     "nuid": "b9433dfc-e3c6-446e-9a51-475c76de27c6",
     "showTitle": false,
     "tableResultSettingsMap": {},
     "title": ""
    }
   },
   "outputs": [],
   "source": [
    "# storage_account_name = \"jaistorageaccount\"\n",
    "# container_name = \"sample\"\n",
    "# mount_point = \"/mnt/rawdata\"  # Choose a mount point name relevant to your data\n",
    "\n",
    "# # Fetch service principal credentials from Databricks secrets\n",
    "# application_id = dbutils.secrets.get(scope=\"my-secret-scope\", key=\"application-id\")\n",
    "# authentication_key = dbutils.secrets.get(scope=\"my-secret-scope\", key=\"application-secret\")\n",
    "# tenant_id = dbutils.secrets.get(scope=\"my-secret-scope\", key=\"tenant-id\")\n",
    "# print(application_id)\n",
    "# print(authentication_key)\n",
    "# print(tenant_id)\n",
    "# endpoint = f\"https://login.microsoftonline.com/{tenant_id}/oauth2/token\"\n",
    "\n",
    "# configs = {\n",
    "#   \"fs.azure.account.auth.type\": \"OAuth\",\n",
    "#   \"fs.azure.account.oauth.provider.type\": \"org.apache.hadoop.fs.azurebfs.oauth2.ClientCredsTokenProvider\",\n",
    "#   \"fs.azure.account.oauth2.client.id\": application_id,\n",
    "#   \"fs.azure.account.oauth2.client.secret\": authentication_key,\n",
    "#   \"fs.azure.account.oauth2.client.endpoint\": endpoint\n",
    "# }\n",
    "\n",
    "# # Source URI including container and storage account\n",
    "# source = f\"abfss://{container_name}@{storage_account_name}.dfs.core.windows.net/\"\n",
    "\n",
    "# # Mount only if not already mounted\n",
    "# if not any(mount.mountPoint == mount_point for mount in dbutils.fs.mounts()):\n",
    "#     dbutils.fs.mount(\n",
    "#         source = source,\n",
    "#         mount_point = mount_point,\n",
    "#         extra_configs = configs\n",
    "#     )\n",
    "#     print(f\"Mount successful at {mount_point}\")\n",
    "# else:\n",
    "#     print(f\"{mount_point} is already mounted\")\n"
   ]
  },
  {
   "cell_type": "code",
   "execution_count": 0,
   "metadata": {
    "application/vnd.databricks.v1+cell": {
     "cellMetadata": {
      "byteLimit": 2048000,
      "rowLimit": 10000
     },
     "inputWidgets": {},
     "nuid": "a9780286-cab8-4b0f-b450-db4515d2fa90",
     "showTitle": false,
     "tableResultSettingsMap": {},
     "title": ""
    }
   },
   "outputs": [],
   "source": [
    "# # Orchestration in Databricks\n",
    "# raw_path = \"/dbfs/mnt/rawdata/reduced_file.csv\"\n",
    "# stage1 = \"/mnt/tmp/stage1\"\n",
    "# stage2 = \"/mnt/tmp/stage2\"\n",
    "# stage3 = \"/mnt/tmp/stage3\"\n",
    "# stage4 = \"/mnt/tmp/stage4\"\n",
    "# train_path = \"/mnt/tmp/train\"\n",
    "# test_path = \"/mnt/tmp/test\"\n",
    "# model_path = \"/mnt/models\"\n",
    "# registered_name = \"my_spark_native\"\n",
    "\n",
    "# dbutils.notebook.run(\"01_load_data\", 0, {\"raw_path\": raw_path, \"output_path\": stage1})\n",
    "# dbutils.notebook.run(\"02_feature_engineering\", 0, {\"input_path\": stage1, \"output_path\": stage2})\n",
    "# dbutils.notebook.run(\"03_replace_missing\", 0, {\"input_path\": stage2, \"output_path\": stage3})\n",
    "# dbutils.notebook.run(\"04_select_features\", 0, {\"input_path\": stage3, \"output_path\": stage4})\n",
    "# dbutils.notebook.run(\"05_split_data\", 0, {\"input_path\": stage4, \"train_path\": train_path, \"test_path\": test_path})\n",
    "# dbutils.notebook.run(\"06_train_and_register\", 0, {\n",
    "#     \"train_path\": train_path, \n",
    "#     \"test_path\": test_path,\n",
    "#     \"model_output_path\": model_path,\n",
    "#     \"registered_model_name\": registered_name\n",
    "# })\n"
   ]
  },
  {
   "cell_type": "code",
   "execution_count": 0,
   "metadata": {
    "application/vnd.databricks.v1+cell": {
     "cellMetadata": {
      "byteLimit": 2048000,
      "rowLimit": 10000
     },
     "inputWidgets": {},
     "nuid": "0f45f644-530f-457c-97c9-11e65c8005a3",
     "showTitle": false,
     "tableResultSettingsMap": {},
     "title": ""
    }
   },
   "outputs": [],
   "source": [
    "# import mlflow.pyfunc\n",
    "# import pandas as pd\n",
    "\n",
    "# # Load model by name and version (use latest version by default)\n",
    "# model_name = \"my_spark_native_model\"\n",
    "# model_version = 1  # or omit to get latest version\n",
    "\n",
    "# model_uri = f\"models:/{model_name}/{model_version}\"  \n",
    "\n",
    "# # Load model as a PyFunc model (generic for most flavors)\n",
    "# model = mlflow.pyfunc.load_model(model_uri)\n",
    "\n",
    "# # Predict on new data - input as Pandas DataFrame or Spark DataFrame (converted to pandas)\n",
    "# data = pd.DataFrame({\n",
    "#     \"Issued_year\": [2023],\n",
    "#     \"Issued_month\": [5],\n",
    "#     \"Issued_day\": [3],\n",
    "#     \"Issued_hour\": [10],\n",
    "#     \"Community_Name\": [1],\n",
    "#     \"Sector\": [1],\n",
    "#     \"Side\": [1],\n",
    "#     \"Hardship_Index\": [50.5],\n",
    "#     \"Per_capita_income\": [15957.00],\n",
    "#     \"Percent_unemployed\": [5.0],\n",
    "#     \"Percent_without_diploma\": [10.0],\n",
    "#     \"Percent_households_below_poverty\": [12.0],\n",
    "#     \"Neighborhood\": [1],\n",
    "#     \"Ward\": [1],\n",
    "#     \"ZIP\": [12345],\n",
    "#     \"Police_District\": [1],\n",
    "#     \"Plate_Type\": [1],\n",
    "#     # Add other features your model requires\n",
    "# })\n",
    "\n",
    "# # If Spark DataFrame, convert to pandas\n",
    "# if hasattr(data, \"toPandas\"):\n",
    "#     data = data.toPandas()\n",
    "\n",
    "# predictions = model.predict(data)\n",
    "# print(predictions)\n",
    "\n"
   ]
  },
  {
   "cell_type": "code",
   "execution_count": 0,
   "metadata": {
    "application/vnd.databricks.v1+cell": {
     "cellMetadata": {},
     "inputWidgets": {},
     "nuid": "c4d979ca-bf6d-490f-b817-02fd59bb31eb",
     "showTitle": false,
     "tableResultSettingsMap": {},
     "title": ""
    }
   },
   "outputs": [],
   "source": []
  }
 ],
 "metadata": {
  "application/vnd.databricks.v1+notebook": {
   "computePreferences": {
    "hardware": {
     "accelerator": null,
     "gpuPoolId": null,
     "memory": null
    }
   },
   "dashboards": [],
   "environmentMetadata": {
    "base_environment": "",
    "environment_version": "2"
   },
   "inputWidgetPreferences": null,
   "language": "python",
   "notebookMetadata": {
    "pythonIndentUnit": 4
   },
   "notebookName": "main_pipeline",
   "widgets": {}
  },
  "language_info": {
   "name": "python"
  }
 },
 "nbformat": 4,
 "nbformat_minor": 0
}
