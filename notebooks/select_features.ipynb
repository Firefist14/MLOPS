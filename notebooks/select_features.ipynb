{
 "cells": [
  {
   "cell_type": "code",
   "execution_count": 0,
   "metadata": {
    "application/vnd.databricks.v1+cell": {
     "cellMetadata": {},
     "inputWidgets": {},
     "nuid": "96204a03-2864-4e5c-bde3-584d0a409778",
     "showTitle": false,
     "tableResultSettingsMap": {},
     "title": ""
    }
   },
   "outputs": [],
   "source": [
    "def select_features(input_path, output_path):\n",
    "    df = spark.read.parquet(input_path)\n",
    "\n",
    "    drop_cols = ['License_Plate_State', 'Tract', 'Unit_ID', 'Violation_ID']\n",
    "    for c in drop_cols:\n",
    "        if c in df.columns:\n",
    "            df = df.drop(c)\n",
    "\n",
    "    df.write.mode(\"overwrite\").parquet(output_path)\n",
    "    print(f\"✅ Selected features data saved at: {output_path}\")\n",
    "\n",
    "# Run manually\n",
    "input_path = \"/Volumes/workspace/default/tutorial/missing_replaced\"\n",
    "output_path = \"/Volumes/workspace/default/tutorial/selected_features\"\n",
    "select_features(input_path, output_path)\n"
   ]
  }
 ],
 "metadata": {
  "application/vnd.databricks.v1+notebook": {
   "computePreferences": {
    "hardware": {
     "accelerator": null,
     "gpuPoolId": null,
     "memory": null
    }
   },
   "dashboards": [],
   "environmentMetadata": {
    "base_environment": "",
    "environment_version": "3"
   },
   "inputWidgetPreferences": null,
   "language": "python",
   "notebookMetadata": {
    "pythonIndentUnit": 4
   },
   "notebookName": "select_features",
   "widgets": {}
  },
  "language_info": {
   "name": "python"
  }
 },
 "nbformat": 4,
 "nbformat_minor": 0
}
