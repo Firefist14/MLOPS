{
 "cells": [
  {
   "cell_type": "code",
   "execution_count": 0,
   "metadata": {
    "application/vnd.databricks.v1+cell": {
     "cellMetadata": {},
     "inputWidgets": {},
     "nuid": "739c5aad-38dd-435d-9863-c9764e688aae",
     "showTitle": false,
     "tableResultSettingsMap": {},
     "title": ""
    }
   },
   "outputs": [],
   "source": [
    "def replace_missing(input_path, output_path):\n",
    "    df = spark.read.parquet(input_path)\n",
    "\n",
    "    # Handle numeric columns: fill with median\n",
    "    numeric_cols = [f.name for f in df.schema.fields if str(f.dataType) in \n",
    "                    ['IntegerType', 'DoubleType', 'LongType', 'FloatType']]\n",
    "    for col_name in numeric_cols:\n",
    "        median_val = df.approxQuantile(col_name, [0.5], 0.01)[0]\n",
    "        df = df.na.fill({col_name: median_val})\n",
    "\n",
    "    # Handle categorical columns: fill with \"Unknown\"\n",
    "    cat_cols = [f.name for f in df.schema.fields if str(f.dataType) == 'StringType']\n",
    "    for col_name in cat_cols:\n",
    "        df = df.na.fill({col_name: \"Unknown\"})\n",
    "\n",
    "    # Save cleaned data\n",
    "    df.write.mode(\"overwrite\").parquet(output_path)\n",
    "    print(f\"✅ Missing values replaced (numeric → median, categorical → 'Unknown'). Data saved at: {output_path}\")\n",
    "\n",
    "\n",
    "# Run manually\n",
    "input_path = \"/Volumes/workspace/default/tutorial/feature_engineered\"\n",
    "output_path = \"/Volumes/workspace/default/tutorial/missing_replaced\"\n",
    "replace_missing(input_path, output_path)\n"
   ]
  }
 ],
 "metadata": {
  "application/vnd.databricks.v1+notebook": {
   "computePreferences": {
    "hardware": {
     "accelerator": null,
     "gpuPoolId": null,
     "memory": null
    }
   },
   "dashboards": [],
   "environmentMetadata": {
    "base_environment": "",
    "environment_version": "3"
   },
   "inputWidgetPreferences": null,
   "language": "python",
   "notebookMetadata": {
    "pythonIndentUnit": 4
   },
   "notebookName": "replace_missing_values",
   "widgets": {}
  },
  "language_info": {
   "name": "python"
  }
 },
 "nbformat": 4,
 "nbformat_minor": 0
}
