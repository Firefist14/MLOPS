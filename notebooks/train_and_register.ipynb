{
 "cells": [
  {
   "cell_type": "code",
   "execution_count": 0,
   "metadata": {
    "application/vnd.databricks.v1+cell": {
     "cellMetadata": {},
     "inputWidgets": {},
     "nuid": "5e0adf86-5ed6-4561-9b14-1ea381f8587a",
     "showTitle": false,
     "tableResultSettingsMap": {},
     "title": ""
    }
   },
   "outputs": [],
   "source": [
    "import os, joblib, mlflow\n",
    "import pandas as pd\n",
    "from sklearn.ensemble import RandomForestClassifier\n",
    "from sklearn.preprocessing import LabelEncoder\n",
    "from mlflow.models.signature import infer_signature\n",
    "from sklearn.metrics import accuracy_score, recall_score, precision_score, f1_score\n",
    "\n",
    "def train_and_register(train_path, test_path, model_output_path, registered_model_name):\n",
    "    # Load parquet into Pandas\n",
    "    train_df = spark.read.parquet(train_path).toPandas()\n",
    "    test_df = spark.read.parquet(test_path).toPandas()\n",
    "\n",
    "    target = \"PaymentIsOutstanding\"\n",
    "\n",
    "    # Encode target only\n",
    "    le = LabelEncoder()\n",
    "    train_df[target] = le.fit_transform(train_df[target].astype(str))\n",
    "    test_df[target] = le.transform(test_df[target].astype(str))\n",
    "\n",
    "    # Split features/labels\n",
    "    X_train = train_df.drop(columns=[target])\n",
    "    y_train = train_df[target]\n",
    "    X_test = test_df.drop(columns=[target])\n",
    "    y_test = test_df[target]\n",
    "\n",
    "    # 🔹 Handle categorical features here\n",
    "    cat_cols = X_train.select_dtypes(include=['object']).columns\n",
    "    X_train = pd.get_dummies(X_train, columns=cat_cols)\n",
    "    X_test = pd.get_dummies(X_test, columns=cat_cols)\n",
    "\n",
    "    # Align train/test columns\n",
    "    X_train, X_test = X_train.align(X_test, join='left', axis=1, fill_value=0)\n",
    "\n",
    "    # Train model\n",
    "    model = RandomForestClassifier(random_state=42)\n",
    "    model.fit(X_train, y_train)\n",
    "\n",
    "    # Save model\n",
    "    os.makedirs(model_output_path, exist_ok=True)\n",
    "    model_file = os.path.join(model_output_path, \"model.joblib\")\n",
    "    joblib.dump(model, model_file)\n",
    "\n",
    "    # Log with MLflow\n",
    "    signature = infer_signature(X_train, model.predict(X_train))\n",
    "    y_pred = model.predict(X_test)\n",
    "\n",
    "    acc, rec, prec, f1 = (accuracy_score(y_test, y_pred),\n",
    "                          recall_score(y_test, y_pred),\n",
    "                          precision_score(y_test, y_pred),\n",
    "                          f1_score(y_test, y_pred))\n",
    "\n",
    "    with mlflow.start_run():\n",
    "        mlflow.sklearn.log_model(\n",
    "            model,\n",
    "            artifact_path=\"model\",\n",
    "            registered_model_name=registered_model_name,\n",
    "            signature=signature\n",
    "        )\n",
    "        mlflow.log_metric(\"accuracy\", acc)\n",
    "        mlflow.log_metric(\"recall\", rec)\n",
    "        mlflow.log_metric(\"precision\", prec)\n",
    "        mlflow.log_metric(\"f1_score\", f1)\n",
    "\n",
    "    print(f\"✅ Model trained and registered as '{registered_model_name}'\")\n",
    "\n",
    "\n",
    "# Run manually\n",
    "train_path = \"/Volumes/workspace/default/tutorial/train\"\n",
    "test_path = \"/Volumes/workspace/default/tutorial/test\"\n",
    "model_path = \"/Volumes/workspace/default/tutorial/models\"\n",
    "registered_name = \"my_spark_native_model\"\n",
    "\n",
    "train_and_register(train_path, test_path, model_path, registered_name)\n"
   ]
  }
 ],
 "metadata": {
  "application/vnd.databricks.v1+notebook": {
   "computePreferences": {
    "hardware": {
     "accelerator": null,
     "gpuPoolId": null,
     "memory": null
    }
   },
   "dashboards": [],
   "environmentMetadata": {
    "base_environment": "",
    "environment_version": "3"
   },
   "inputWidgetPreferences": null,
   "language": "python",
   "notebookMetadata": {
    "pythonIndentUnit": 4
   },
   "notebookName": "train_and_register",
   "widgets": {}
  },
  "language_info": {
   "name": "python"
  }
 },
 "nbformat": 4,
 "nbformat_minor": 0
}
