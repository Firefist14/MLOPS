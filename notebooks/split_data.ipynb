{
 "cells": [
  {
   "cell_type": "code",
   "execution_count": 0,
   "metadata": {
    "application/vnd.databricks.v1+cell": {
     "cellMetadata": {},
     "inputWidgets": {},
     "nuid": "4efac14b-cec1-487b-b612-89645fad12c6",
     "showTitle": false,
     "tableResultSettingsMap": {},
     "title": ""
    }
   },
   "outputs": [],
   "source": [
    "def split_data(input_path, train_output_path, test_output_path, train_fraction=0.8):\n",
    "    df = spark.read.parquet(input_path)\n",
    "    train_df, test_df = df.randomSplit([train_fraction, 1-train_fraction], seed=42)\n",
    "\n",
    "    train_df.write.mode(\"overwrite\").parquet(train_output_path)\n",
    "    test_df.write.mode(\"overwrite\").parquet(test_output_path)\n",
    "\n",
    "    print(f\"✅ Data split into train ({train_output_path}) and test ({test_output_path})\")\n",
    "\n",
    "# Run manually\n",
    "input_path = \"/Volumes/workspace/default/tutorial/selected_features\"\n",
    "train_path = \"/Volumes/workspace/default/tutorial/train\"\n",
    "test_path = \"/Volumes/workspace/default/tutorial/test\"\n",
    "split_data(input_path, train_path, test_path)\n"
   ]
  }
 ],
 "metadata": {
  "application/vnd.databricks.v1+notebook": {
   "computePreferences": {
    "hardware": {
     "accelerator": null,
     "gpuPoolId": null,
     "memory": null
    }
   },
   "dashboards": [],
   "environmentMetadata": {
    "base_environment": "",
    "environment_version": "3"
   },
   "inputWidgetPreferences": null,
   "language": "python",
   "notebookMetadata": {
    "pythonIndentUnit": 4
   },
   "notebookName": "split_data",
   "widgets": {}
  },
  "language_info": {
   "name": "python"
  }
 },
 "nbformat": 4,
 "nbformat_minor": 0
}
